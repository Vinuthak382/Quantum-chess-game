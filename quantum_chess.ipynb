{
 "cells": [
  {
   "cell_type": "code",
   "execution_count": 30,
   "id": "3bf7bc65-92a3-4efb-92ee-c4cb5fa8d408",
   "metadata": {
    "tags": []
   },
   "outputs": [],
   "source": [
    "# Importing standard Qiskit libraries\n",
    "from qiskit import QuantumCircuit, transpile\n",
    "from qiskit.tools.jupyter import *\n",
    "from qiskit.visualization import *\n",
    "from ibm_quantum_widgets import *\n",
    "from qiskit_aer import AerSimulator\n",
    "\n",
    "# qiskit-ibmq-provider has been deprecated.\n",
    "# Please see the Migration Guides in https://ibm.biz/provider_migration_guide for more detail.\n",
    "from qiskit_ibm_runtime import QiskitRuntimeService, Sampler, Estimator, Session, Options\n",
    "\n",
    "# Loading your IBM Quantum account(s)\n",
    "service = QiskitRuntimeService(channel=\"ibm_quantum\")\n",
    "\n",
    "# Invoke a primitive inside a session. For more details see https://qiskit.org/documentation/partners/qiskit_ibm_runtime/tutorials.html\n",
    "# with Session(backend=service.backend(\"ibmq_qasm_simulator\")):\n",
    "#     result = Sampler().run(circuits).result()"
   ]
  },
  {
   "cell_type": "code",
   "execution_count": 31,
   "id": "9dbb2e1c-38a4-431c-bb0f-4456c75a3a6d",
   "metadata": {
    "tags": []
   },
   "outputs": [],
   "source": [
    "import numpy as np\n",
    "from qiskit import QuantumCircuit, ClassicalRegister, QuantumRegister, execute, Aer"
   ]
  },
  {
   "cell_type": "code",
   "execution_count": 32,
   "id": "cf985a80-3ca6-4074-922c-2f188ff5d993",
   "metadata": {
    "tags": []
   },
   "outputs": [],
   "source": [
    "# Define the initial classical chess board\n",
    "classical_board = [\n",
    "    ['r', 'n', 'b', 'q', 'k', 'b', 'n', 'r'],\n",
    "    ['p', 'p', 'p', 'p', 'p', 'p', 'p', 'p'],\n",
    "    [' ', ' ', ' ', ' ', ' ', ' ', ' ', ' '],\n",
    "    [' ', ' ', ' ', ' ', ' ', ' ', ' ', ' '],\n",
    "    [' ', ' ', ' ', ' ', ' ', ' ', ' ', ' '],\n",
    "    [' ', ' ', ' ', ' ', ' ', ' ', ' ', ' '],\n",
    "    ['P', 'P', 'P', 'P', 'P', 'P', 'P', 'P'],\n",
    "    ['R', 'N', 'B', 'Q', 'K', 'B', 'N', 'R']\n",
    "]"
   ]
  },
  {
   "cell_type": "code",
   "execution_count": 33,
   "id": "08f9f83a-25d1-4af2-9a15-571f8bd217ee",
   "metadata": {
    "tags": []
   },
   "outputs": [],
   "source": [
    "# Define the quantum chess board using qubits\n",
    "quantum_board = QuantumRegister(64)\n",
    "classical_register = ClassicalRegister(64)\n",
    "qc = QuantumCircuit(quantum_board, classical_register)\n"
   ]
  },
  {
   "cell_type": "code",
   "execution_count": 34,
   "id": "cfcfc921-cce3-4ebe-91c6-b4fb523c6c4a",
   "metadata": {
    "tags": []
   },
   "outputs": [],
   "source": [
    "# Function to apply a move on the quantum chess board\n",
    "def apply_move(move):\n",
    "    from_pos, to_pos = move\n",
    "    \n",
    "    # Convert the positions to qubit indices\n",
    "    from_qubit = from_pos[0] * 8 + from_pos[1]\n",
    "    to_qubit = to_pos[0] * 8 + to_pos[1]\n",
    "    \n",
    "    # Apply the move as a quantum gate\n",
    "    qc.cx(quantum_board[from_qubit], quantum_board[to_qubit])\n",
    "    qc.x(quantum_board[from_qubit])\n",
    "    qc.measure(quantum_board[to_qubit], classical_register[to_qubit])"
   ]
  },
  {
   "cell_type": "code",
   "execution_count": 35,
   "id": "9b2ca8fa-6e74-4307-ab9b-c2b992ca6eb9",
   "metadata": {
    "tags": []
   },
   "outputs": [
    {
     "name": "stdout",
     "output_type": "stream",
     "text": [
      "r n b q k b n r\n",
      "p p p p p p p p\n",
      "               \n",
      "               \n",
      "               \n",
      "               \n",
      "P P P P P P P P\n",
      "R N B Q K B N R\n",
      "\n"
     ]
    },
    {
     "name": "stdin",
     "output_type": "stream",
     "text": [
      "Enter the position of the piece you want to move (e.g., 'e2'), or enter 'quit' to end the game:  a2 a4\n"
     ]
    },
    {
     "name": "stdout",
     "output_type": "stream",
     "text": [
      "r n b q k b n r\n",
      "p p p p p p p p\n",
      "               \n",
      "               \n",
      "P              \n",
      "               \n",
      "  P P P P P P P\n",
      "R N B Q K B N R\n",
      "\n"
     ]
    },
    {
     "name": "stdin",
     "output_type": "stream",
     "text": [
      "Enter the position of the piece you want to move (e.g., 'e2'), or enter 'quit' to end the game:  g7 g5\n"
     ]
    },
    {
     "name": "stdout",
     "output_type": "stream",
     "text": [
      "r n b q k b n r\n",
      "p p p p p p   p\n",
      "               \n",
      "            p  \n",
      "P              \n",
      "               \n",
      "  P P P P P P P\n",
      "R N B Q K B N R\n",
      "\n"
     ]
    },
    {
     "name": "stdin",
     "output_type": "stream",
     "text": [
      "Enter the position of the piece you want to move (e.g., 'e2'), or enter 'quit' to end the game:  c1 c3\n"
     ]
    },
    {
     "name": "stdout",
     "output_type": "stream",
     "text": [
      "r n b q k b n r\n",
      "p p p p p p   p\n",
      "               \n",
      "            p  \n",
      "P              \n",
      "    B          \n",
      "  P P P P P P P\n",
      "R N   Q K B N R\n",
      "\n"
     ]
    },
    {
     "name": "stdin",
     "output_type": "stream",
     "text": [
      "Enter the position of the piece you want to move (e.g., 'e2'), or enter 'quit' to end the game:  f8 f6\n"
     ]
    },
    {
     "name": "stdout",
     "output_type": "stream",
     "text": [
      "r n b q k   n r\n",
      "p p p p p p   p\n",
      "          b    \n",
      "            p  \n",
      "P              \n",
      "    B          \n",
      "  P P P P P P P\n",
      "R N   Q K B N R\n",
      "\n"
     ]
    },
    {
     "name": "stdin",
     "output_type": "stream",
     "text": [
      "Enter the position of the piece you want to move (e.g., 'e2'), or enter 'quit' to end the game:  g1 g3\n"
     ]
    },
    {
     "name": "stdout",
     "output_type": "stream",
     "text": [
      "r n b q k   n r\n",
      "p p p p p p   p\n",
      "          b    \n",
      "            p  \n",
      "P              \n",
      "    B       N  \n",
      "  P P P P P P P\n",
      "R N   Q K B   R\n",
      "\n"
     ]
    },
    {
     "name": "stdin",
     "output_type": "stream",
     "text": [
      "Enter the position of the piece you want to move (e.g., 'e2'), or enter 'quit' to end the game:  quit\n"
     ]
    },
    {
     "name": "stdout",
     "output_type": "stream",
     "text": [
      "Game ended.\n"
     ]
    }
   ],
   "source": [
    "# Main game loop\n",
    "while True:\n",
    "    # Print the classical chess board\n",
    "    for row in classical_board:\n",
    "        print(' '.join(row))\n",
    "    print()\n",
    "    \n",
    "    # Get user input for the move or end the game\n",
    "    move_input = input(\"Enter the position of the piece you want to move (e.g., 'e2'), or enter 'quit' to end the game: \")\n",
    "    \n",
    "    # Check if the player wants to end the game\n",
    "    if move_input.lower() == \"quit\":\n",
    "        print(\"Game ended.\")\n",
    "        break\n",
    "    \n",
    "    # Parse the move input\n",
    "    if len(move_input) != 5:\n",
    "        print(\"Invalid move input. Please provide two positions.\")\n",
    "        continue\n",
    "    \n",
    "    from_pos = move_input[:2]\n",
    "    to_pos = move_input[3:]\n",
    "    \n",
    "    from_row, from_col = 8 - int(from_pos[1]), ord(from_pos[0]) - ord('a')\n",
    "    to_row, to_col = 8 - int(to_pos[1]), ord(to_pos[0]) - ord('a')\n",
    "    \n",
    "    # Apply the move on the quantum chess board\n",
    "    apply_move(((from_row, from_col), (to_row, to_col)))\n",
    "    \n",
    "    # Simulate the quantum circuit\n",
    "    backend = Aer.get_backend('qasm_simulator')\n",
    "    job = execute(qc, backend, shots=1)\n",
    "    result = job.result()\n",
    "    counts = result.get_counts(qc)\n",
    "    \n",
    "    # Update the classical chess board based on the measurement result\n",
    "    for i in range(len(quantum_board)):\n",
    "        if counts.get(i, 0) == 1:\n",
    "            index = quantum_board.index(i)\n",
    "            row = index // 8\n",
    "            col = index % 8\n",
    "            piece = classical_board[row][col]\n",
    "            classical_board[row][col] = ' ' if piece.islower() else piece.lower()\n",
    "            break\n",
    "    \n",
    "    # Update the classical chess board with the new positions of the pieces\n",
    "    classical_board[from_row][from_col], classical_board[to_row][to_col] = ' ', classical_board[from_row][from_col]\n",
    "    \n"
   ]
  },
  {
   "cell_type": "code",
   "execution_count": 36,
   "id": "0bfe807e-9cc5-4b01-a753-52e409b3b246",
   "metadata": {
    "tags": []
   },
   "outputs": [
    {
     "name": "stdout",
     "output_type": "stream",
     "text": [
      "r n b q k   n r\n",
      "p p p p p p   p\n",
      "          b    \n",
      "            p  \n",
      "P              \n",
      "    B       N  \n",
      "  P P P P P P P\n",
      "R N   Q K B   R\n",
      "\n"
     ]
    }
   ],
   "source": [
    "# Print the updated classical chess board\n",
    "for row in classical_board:\n",
    "    print(' '.join(row))\n",
    "print()"
   ]
  },
  {
   "cell_type": "code",
   "execution_count": null,
   "id": "c4ac7c1b-f8ea-4127-b02c-c47a410d836a",
   "metadata": {},
   "outputs": [],
   "source": []
  }
 ],
 "metadata": {
  "kernelspec": {
   "display_name": "Python 3 (ipykernel)",
   "language": "python",
   "name": "python3"
  },
  "language_info": {
   "codemirror_mode": {
    "name": "ipython",
    "version": 3
   },
   "file_extension": ".py",
   "mimetype": "text/x-python",
   "name": "python",
   "nbconvert_exporter": "python",
   "pygments_lexer": "ipython3",
   "version": "3.10.8"
  },
  "widgets": {
   "application/vnd.jupyter.widget-state+json": {
    "state": {
     "0623fcddaa09419bb3ede0688a0b37e6": {
      "model_module": "@jupyter-widgets/controls",
      "model_module_version": "2.0.0",
      "model_name": "HTMLStyleModel",
      "state": {
       "description_width": "",
       "font_size": null,
       "text_color": null
      }
     },
     "0a5129acd6b74d1b94a4e69b6b344c04": {
      "model_module": "@jupyter-widgets/controls",
      "model_module_version": "2.0.0",
      "model_name": "ButtonModel",
      "state": {
       "button_style": "primary",
       "description": "Clear",
       "layout": "IPY_MODEL_977bdce10039475e9ccccc98584d11df",
       "style": "IPY_MODEL_e32313ef645b4d0db961b373afe90422",
       "tooltip": null
      }
     },
     "115175376c914076a47cc1ba74915de2": {
      "model_module": "@jupyter-widgets/base",
      "model_module_version": "2.0.0",
      "model_name": "LayoutModel",
      "state": {
       "margin": "0px 0px 10px 0px"
      }
     },
     "1155e31a2c5043268899cbf7b43eea18": {
      "model_module": "@jupyter-widgets/controls",
      "model_module_version": "2.0.0",
      "model_name": "HTMLStyleModel",
      "state": {
       "description_width": "",
       "font_size": null,
       "text_color": null
      }
     },
     "1e69d9fb37f74e8986d2e7039eb1fd12": {
      "model_module": "@jupyter-widgets/controls",
      "model_module_version": "2.0.0",
      "model_name": "HTMLModel",
      "state": {
       "layout": "IPY_MODEL_a15d321cb43e4eb2ab7e6fada925bf3f",
       "style": "IPY_MODEL_fcc37adfb8f64e6e98c23e1f2502447e",
       "value": "<h5>Queue</h5>"
      }
     },
     "1f613abc1e2c4852b0c85cb0d98c5837": {
      "model_module": "@jupyter-widgets/controls",
      "model_module_version": "2.0.0",
      "model_name": "HTMLStyleModel",
      "state": {
       "description_width": "",
       "font_size": null,
       "text_color": null
      }
     },
     "22159f16828047df97ae5d5809c34baf": {
      "model_module": "@jupyter-widgets/base",
      "model_module_version": "2.0.0",
      "model_name": "LayoutModel",
      "state": {
       "width": "190px"
      }
     },
     "28f5e016ff8744f9a0c5c683fa0fa372": {
      "model_module": "@jupyter-widgets/controls",
      "model_module_version": "2.0.0",
      "model_name": "HTMLModel",
      "state": {
       "layout": "IPY_MODEL_22159f16828047df97ae5d5809c34baf",
       "style": "IPY_MODEL_1155e31a2c5043268899cbf7b43eea18",
       "value": "<h5>Job ID</h5>"
      }
     },
     "33d4942940ea47e68784e968ba203a65": {
      "model_module": "@jupyter-widgets/controls",
      "model_module_version": "2.0.0",
      "model_name": "HBoxModel",
      "state": {
       "children": [
        "IPY_MODEL_28f5e016ff8744f9a0c5c683fa0fa372",
        "IPY_MODEL_6c92c701126047588554cdd312d22e21",
        "IPY_MODEL_85618efa48f946a19008fb42bea28d89",
        "IPY_MODEL_1e69d9fb37f74e8986d2e7039eb1fd12",
        "IPY_MODEL_e718e7f76a914d7dba9ffc43cb78711c"
       ],
       "layout": "IPY_MODEL_98f2c5ac60b74eedaa07cbc84b1c445e"
      }
     },
     "56cc1ee8518645dfa9ab62e14ce5586a": {
      "model_module": "@jupyter-widgets/base",
      "model_module_version": "2.0.0",
      "model_name": "LayoutModel",
      "state": {
       "width": "145px"
      }
     },
     "67ba0a7eca214e5088566d2dfb7d2072": {
      "model_module": "@jupyter-widgets/controls",
      "model_module_version": "2.0.0",
      "model_name": "HTMLModel",
      "state": {
       "layout": "IPY_MODEL_115175376c914076a47cc1ba74915de2",
       "style": "IPY_MODEL_7933bf3e7e8541e5bbf52286592012f9",
       "value": "<p style='font-family: IBM Plex Sans, Arial, Helvetica, sans-serif; font-size: 20px; font-weight: medium;'>Circuit Properties</p>"
      }
     },
     "6c92c701126047588554cdd312d22e21": {
      "model_module": "@jupyter-widgets/controls",
      "model_module_version": "2.0.0",
      "model_name": "HTMLModel",
      "state": {
       "layout": "IPY_MODEL_56cc1ee8518645dfa9ab62e14ce5586a",
       "style": "IPY_MODEL_0623fcddaa09419bb3ede0688a0b37e6",
       "value": "<h5>Backend</h5>"
      }
     },
     "7933bf3e7e8541e5bbf52286592012f9": {
      "model_module": "@jupyter-widgets/controls",
      "model_module_version": "2.0.0",
      "model_name": "HTMLStyleModel",
      "state": {
       "description_width": "",
       "font_size": null,
       "text_color": null
      }
     },
     "85618efa48f946a19008fb42bea28d89": {
      "model_module": "@jupyter-widgets/controls",
      "model_module_version": "2.0.0",
      "model_name": "HTMLModel",
      "state": {
       "layout": "IPY_MODEL_d6a76a8a57844b27b40a4924a3e48bad",
       "style": "IPY_MODEL_1f613abc1e2c4852b0c85cb0d98c5837",
       "value": "<h5>Status</h5>"
      }
     },
     "977bdce10039475e9ccccc98584d11df": {
      "model_module": "@jupyter-widgets/base",
      "model_module_version": "2.0.0",
      "model_name": "LayoutModel",
      "state": {
       "grid_area": "right",
       "padding": "0px 0px 0px 0px",
       "width": "70px"
      }
     },
     "98f2c5ac60b74eedaa07cbc84b1c445e": {
      "model_module": "@jupyter-widgets/base",
      "model_module_version": "2.0.0",
      "model_name": "LayoutModel",
      "state": {
       "margin": "0px 0px 0px 37px",
       "width": "600px"
      }
     },
     "a15d321cb43e4eb2ab7e6fada925bf3f": {
      "model_module": "@jupyter-widgets/base",
      "model_module_version": "2.0.0",
      "model_name": "LayoutModel",
      "state": {
       "width": "70px"
      }
     },
     "d319fd1f81294fd0ad7a2551999b0ced": {
      "model_module": "@jupyter-widgets/controls",
      "model_module_version": "2.0.0",
      "model_name": "HTMLStyleModel",
      "state": {
       "description_width": "",
       "font_size": null,
       "text_color": null
      }
     },
     "d6a76a8a57844b27b40a4924a3e48bad": {
      "model_module": "@jupyter-widgets/base",
      "model_module_version": "2.0.0",
      "model_name": "LayoutModel",
      "state": {
       "width": "95px"
      }
     },
     "dd7f80af7e564eddb246adec561b1ac1": {
      "model_module": "@jupyter-widgets/base",
      "model_module_version": "2.0.0",
      "model_name": "LayoutModel",
      "state": {
       "grid_template_areas": "\n                                       \". . . . right \"\n                                        ",
       "grid_template_columns": "20% 20% 20% 20% 20%",
       "width": "100%"
      }
     },
     "e32313ef645b4d0db961b373afe90422": {
      "model_module": "@jupyter-widgets/controls",
      "model_module_version": "2.0.0",
      "model_name": "ButtonStyleModel",
      "state": {
       "font_family": null,
       "font_size": null,
       "font_style": null,
       "font_variant": null,
       "font_weight": null,
       "text_color": null,
       "text_decoration": null
      }
     },
     "e4d999bbfc8d41f0957e3bce4e0c6884": {
      "model_module": "@jupyter-widgets/base",
      "model_module_version": "2.0.0",
      "model_name": "LayoutModel",
      "state": {}
     },
     "e718e7f76a914d7dba9ffc43cb78711c": {
      "model_module": "@jupyter-widgets/controls",
      "model_module_version": "2.0.0",
      "model_name": "HTMLModel",
      "state": {
       "layout": "IPY_MODEL_e4d999bbfc8d41f0957e3bce4e0c6884",
       "style": "IPY_MODEL_d319fd1f81294fd0ad7a2551999b0ced",
       "value": "<h5>Message</h5>"
      }
     },
     "fc493d2da2a449f2807ebe3b07398843": {
      "model_module": "@jupyter-widgets/controls",
      "model_module_version": "2.0.0",
      "model_name": "GridBoxModel",
      "state": {
       "children": [
        "IPY_MODEL_0a5129acd6b74d1b94a4e69b6b344c04"
       ],
       "layout": "IPY_MODEL_dd7f80af7e564eddb246adec561b1ac1"
      }
     },
     "fcc37adfb8f64e6e98c23e1f2502447e": {
      "model_module": "@jupyter-widgets/controls",
      "model_module_version": "2.0.0",
      "model_name": "HTMLStyleModel",
      "state": {
       "description_width": "",
       "font_size": null,
       "text_color": null
      }
     }
    },
    "version_major": 2,
    "version_minor": 0
   }
  }
 },
 "nbformat": 4,
 "nbformat_minor": 5
}
